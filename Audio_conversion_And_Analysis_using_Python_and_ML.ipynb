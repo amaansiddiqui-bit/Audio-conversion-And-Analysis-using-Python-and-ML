{
  "nbformat": 4,
  "nbformat_minor": 0,
  "metadata": {
    "colab": {
      "provenance": []
    },
    "kernelspec": {
      "name": "python3",
      "display_name": "Python 3"
    },
    "language_info": {
      "name": "python"
    }
  },
  "cells": [
    {
      "cell_type": "code",
      "execution_count": 1,
      "metadata": {
        "id": "5mlBPXaZfh5v"
      },
      "outputs": [],
      "source": [
        "import os\n",
        "import librosa\n",
        "import numpy as np"
      ]
    },
    {
      "cell_type": "code",
      "source": [
        "##input_path, output_wav_path, output_features_path are to be replaced with paths on the local storage\n",
        "\n",
        "def convert_and_extract_features(input_path, output_wav_path, output_features_path):\n",
        "    # Convert audio file to WAV format\n",
        "    os.system(f'ffmpeg -i \"{input_path}\" -ac 1 -ar 22050 -vn \"{output_wav_path}\"')\n",
        "    #this ffmpeg command takes an input audio file, converts it to a mono(-ac 1) WAV file with a sample rate of 22,050 Hz(-ar 22050), and saves the result to the specified output file path.\n",
        "\n",
        "    # Load audio file\n",
        "    y, sr = librosa.load(output_wav_path)\n",
        "\n",
        "\n",
        "    # Extract MFCC features\n",
        "    mfccs = librosa.feature.mfcc(y, sr=sr, n_mfcc=13)\n",
        "    mfccs_feature = np.mean(mfccs, axis=1)\n",
        "    #This line computes the MFCCs of an audio signal y. The parameters are as follows:#y: The audio time series.\n",
        "    #sr: The sampling rate of y.\n",
        "    #n_mfcc: The number of MFCCs to compute. In this case, it's set to 13, which is a common choice.\n",
        "\n",
        "\n",
        "    # Extract pitch and volume\n",
        "    pitches, magnitudes = librosa.core.piptrack(y=y, sr=sr)\n",
        "    pitch_feature = np.mean(pitches)\n",
        "    volume_feature = np.mean(librosa.feature.rms(y=y))\n",
        "\n",
        "    # Save features to a file\n",
        "    with open(output_features_path, 'w') as f:\n",
        "        f.write(f'MFCCs: {mfccs_feature}\\n')\n",
        "        f.write(f'Pitch: {pitch_feature}\\n')\n",
        "        f.write(f'Volume: {volume_feature}\\n')"
      ],
      "metadata": {
        "id": "zr-FGqWEgKEl"
      },
      "execution_count": null,
      "outputs": []
    }
  ]
}